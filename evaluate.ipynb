{
 "cells": [
  {
   "cell_type": "code",
   "execution_count": 1,
   "metadata": {},
   "outputs": [],
   "source": [
    "import torch\n",
    "from transformers import AlbertTokenizer"
   ]
  },
  {
   "cell_type": "code",
   "execution_count": 3,
   "metadata": {},
   "outputs": [],
   "source": [
    "model = torch.load('saved_model')\n",
    "tokenizer = AlbertTokenizer.from_pretrained('albert-base-v2', do_lower_case=True)\n",
    "label_dict = {0: 'entailment',1:'contradiction', 2:'neutral'}"
   ]
  },
  {
   "cell_type": "code",
   "execution_count": 4,
   "metadata": {},
   "outputs": [],
   "source": [
    "def get_label(premise,hypothesis):\n",
    "    premise_id = tokenizer.encode(premise, add_special_tokens = False)\n",
    "    hypothesis_id = tokenizer.encode(hypothesis, add_special_tokens = False)\n",
    "    pair_token_ids = [tokenizer.cls_token_id] + premise_id + [tokenizer.sep_token_id] + hypothesis_id + [tokenizer.sep_token_id]\n",
    "    premise_len = len(premise_id)\n",
    "    hypothesis_len = len(hypothesis_id)\n",
    "\n",
    "    segment_ids = torch.tensor([0] * (premise_len + 2) + [1] * (hypothesis_len + 1))  # sentence 0 and sentence 1\n",
    "    attention_mask_ids = torch.tensor([1] * (premise_len + hypothesis_len + 3))  # mask padded values\n",
    "\n",
    "\n",
    "\n",
    "    pair_token_ids = torch.tensor(pair_token_ids)\n",
    "    pair_token_ids = torch.reshape(pair_token_ids,(1,-1))\n",
    "    seg_ids = torch.reshape(segment_ids,(1,-1))\n",
    "    mask_ids = torch.reshape(attention_mask_ids,(1,-1))\n",
    "    labels = torch.tensor([0])\n",
    "\n",
    "    out = model(pair_token_ids,token_type_ids=seg_ids, \n",
    "                                 attention_mask=mask_ids, \n",
    "                                 labels=labels)\n",
    "\n",
    "\n",
    "    softmax = torch.nn.Softmax(dim=0)\n",
    "    logits = softmax(out.logits)\n",
    "    preds = torch.argmax(logits,dim=1).numpy()\n",
    "    label = label_dict[preds[0]]\n",
    "    print(premise)\n",
    "    print(hypothesis)\n",
    "    print(f'Given statemnets are :{label}')"
   ]
  },
  {
   "cell_type": "code",
   "execution_count": 5,
   "metadata": {},
   "outputs": [],
   "source": [
    "premise = 'A person on a horse jumps over a broken down airplane.'\n",
    "hypothesis = 'A person is training his horse for a competition.'\n",
    "\n"
   ]
  },
  {
   "cell_type": "code",
   "execution_count": 6,
   "metadata": {},
   "outputs": [
    {
     "name": "stdout",
     "output_type": "stream",
     "text": [
      "A person on a horse jumps over a broken down airplane.\n",
      "A person is training his horse for a competition.\n",
      "Given statemnets are :neutral\n"
     ]
    }
   ],
   "source": [
    "get_label(premise,hypothesis)"
   ]
  },
  {
   "cell_type": "code",
   "execution_count": null,
   "metadata": {},
   "outputs": [],
   "source": []
  }
 ],
 "metadata": {
  "kernelspec": {
   "display_name": "Python 3",
   "language": "python",
   "name": "python3"
  },
  "language_info": {
   "codemirror_mode": {
    "name": "ipython",
    "version": 3
   },
   "file_extension": ".py",
   "mimetype": "text/x-python",
   "name": "python",
   "nbconvert_exporter": "python",
   "pygments_lexer": "ipython3",
   "version": "3.7.4"
  }
 },
 "nbformat": 4,
 "nbformat_minor": 2
}
